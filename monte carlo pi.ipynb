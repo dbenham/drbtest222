{
 "cells": [
  {
   "cell_type": "code",
   "execution_count": 1,
   "metadata": {},
   "outputs": [
    {
     "name": "stdout",
     "output_type": "stream",
     "text": [
      "3.144548\n"
     ]
    }
   ],
   "source": [
    "import random as r\n",
    "import math as m\n",
    "\n",
    "inside = 0\n",
    "total = 1000000\n",
    "\n",
    "for i in range(0, total):\n",
    "  x2 = r.random()**2\n",
    "  y2 = r.random()**2\n",
    "  if m.sqrt(x2 + y2) < 1.0:\n",
    "    inside += 1\n",
    "\n",
    "pi = (float(inside) / total) * 4\n",
    "print(pi)\n"
   ]
  },
  {
   "cell_type": "code",
   "execution_count": null,
   "metadata": {},
   "outputs": [],
   "source": []
  },
  {
   "cell_type": "code",
   "execution_count": null,
   "metadata": {},
   "outputs": [],
   "source": []
  }
 ],
 "metadata": {
  "kernelspec": {
   "display_name": "Python 3",
   "language": "python",
   "name": "python3"
  },
  "language_info": {
   "codemirror_mode": {
    "name": "ipython",
    "version": 3
   },
   "file_extension": ".py",
   "mimetype": "text/x-python",
   "name": "python",
   "nbconvert_exporter": "python",
   "pygments_lexer": "ipython3",
   "version": "3.6.5"
  }
 },
 "nbformat": 4,
 "nbformat_minor": 2
}
